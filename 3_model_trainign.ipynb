{
 "cells": [
  {
   "cell_type": "markdown",
   "metadata": {},
   "source": [
    "## Model selection and trainign\n"
   ]
  },
  {
   "cell_type": "code",
   "execution_count": 12,
   "metadata": {},
   "outputs": [],
   "source": [
    "import numpy as np\n",
    "import pandas as pd\n",
    "import matplotlib.pyplot as plt\n",
    "import seaborn as sns\n",
    "from sklearn.model_selection import train_test_split, cross_val_score\n",
    "from sklearn.metrics import accuracy_score, classification_report, confusion_matrix, roc_auc_score, f1_score\n",
    "from sklearn.ensemble import RandomForestClassifier\n",
    "from sklearn.ensemble import AdaBoostClassifier\n",
    "from sklearn.ensemble import GradientBoostingClassifier\n",
    "from sklearn.linear_model import LogisticRegression\n",
    "from sklearn.neighbors import KNeighborsClassifier\n",
    "from xgboost import XGBClassifier\n",
    "from sklearn.tree import DecisionTreeClassifier\n",
    "from sklearn.svm import SVC\n",
    "import pickle\n",
    "import time"
   ]
  },
  {
   "cell_type": "code",
   "execution_count": 13,
   "metadata": {},
   "outputs": [],
   "source": [
    "\n",
    "# Load the processed data\n",
    "df = pd.read_csv('processed_traffic_data.csv')\n",
    "\n",
    "# Separate features and target\n",
    "X = df.drop('Accident', axis=1)\n",
    "y = df['Accident']"
   ]
  },
  {
   "cell_type": "code",
   "execution_count": null,
   "metadata": {},
   "outputs": [
    {
     "name": "stdout",
     "output_type": "stream",
     "text": [
      "Adding domain-specific risk interaction features...\n",
      "Training set shape: (638, 29), Testing set shape: (160, 29)\n"
     ]
    },
    {
     "ename": "",
     "evalue": "",
     "output_type": "error",
     "traceback": [
      "\u001b[1;31mnotebook controller is DISPOSED. \n",
      "\u001b[1;31mView Jupyter <a href='command:jupyter.viewOutput'>log</a> for further details."
     ]
    },
    {
     "ename": "",
     "evalue": "",
     "output_type": "error",
     "traceback": [
      "\u001b[1;31mnotebook controller is DISPOSED. \n",
      "\u001b[1;31mView Jupyter <a href='command:jupyter.viewOutput'>log</a> for further details."
     ]
    },
    {
     "ename": "",
     "evalue": "",
     "output_type": "error",
     "traceback": [
      "\u001b[1;31mnotebook controller is DISPOSED. \n",
      "\u001b[1;31mView Jupyter <a href='command:jupyter.viewOutput'>log</a> for further details."
     ]
    }
   ],
   "source": [
    "# Add before model training\n",
    "print(\"Adding domain-specific risk interaction features...\")\n",
    "\n",
    "# Create meaningful interaction features\n",
    "X['Alcohol_Night'] = df['Driver_Alcohol_scaled'] * (df['Time_of_Day_encoded'] >= 3).astype(int)\n",
    "X['Speed_Wet_Road'] = df['Speed_Limit_scaled'] * ((df['Road_Condition_Wet'] > 0) | \n",
    "                                                (df['Road_Condition_Icy'] > 0)).astype(int)\n",
    "X['Motorcycle_Speed'] = df['Speed_Limit_scaled'] * (df['Vehicle_Type_Motorcycle'] > 0).astype(int)\n",
    "X['Low_Visibility_Speed'] = df['Speed_Limit_scaled'] * (df['Road_Light_Condition_No Light'] > 0).astype(int)\n",
    "\n",
    "# Create age groups instead of continuous variable\n",
    "df['Age_Group'] = pd.cut(df['Driver_Age_scaled'], \n",
    "                        bins=[-1, 0.25, 0.5, 0.75, 1], \n",
    "                        labels=['Young', 'Adult', 'Middle', 'Senior'])\n",
    "age_dummies = pd.get_dummies(df['Age_Group'], prefix='Age', drop_first=True)\n",
    "X = pd.concat([X, age_dummies], axis=1)\n",
    "\n",
    "# Retrain test/train split with new features\n",
    "X_train, X_test, y_train, y_test = train_test_split(X, y, test_size=0.2, random_state=42, stratify=y)\n",
    "\n",
    "print(f\"Training set shape: {X_train.shape}, Testing set shape: {X_test.shape}\")\n"
   ]
  },
  {
   "cell_type": "code",
   "execution_count": 20,
   "metadata": {},
   "outputs": [],
   "source": [
    "# Define evaluation function for classification\n",
    "def evaluate_model(model_name, model, X_train, X_test, y_train, y_test):\n",
    "    # Start timer\n",
    "    start_time = time.time()\n",
    "    \n",
    "    # Train model\n",
    "    model.fit(X_train, y_train)\n",
    "    \n",
    "    # Training time\n",
    "    train_time = time.time() - start_time\n",
    "    \n",
    "    # Get predictions\n",
    "    y_train_pred = model.predict(X_train)\n",
    "    y_test_pred = model.predict(X_test)\n",
    "    \n",
    "    # Probability predictions for ROC-AUC (if available)\n",
    "    try:\n",
    "        y_test_proba = model.predict_proba(X_test)[:, 1]\n",
    "        roc_auc = roc_auc_score(y_test, y_test_proba)\n",
    "    except:\n",
    "        roc_auc = None\n",
    "    \n",
    "    # Calculate metrics\n",
    "    train_acc = accuracy_score(y_train, y_train_pred)\n",
    "    test_acc = accuracy_score(y_test, y_test_pred)\n",
    "    test_f1 = f1_score(y_test, y_test_pred)\n",
    "    \n",
    "     # Print results\n",
    "    print(f\"\\n{model_name}:\")\n",
    "    print(f\"Training Accuracy: {train_acc:.4f}\")\n",
    "    print(f\"Testing Accuracy: {test_acc:.4f}\")\n",
    "    print(f\"F1 Score: {test_f1:.4f}\")\n",
    "    print(f\"ROC-AUC Score: {roc_auc:.4f}\" if roc_auc is not None else \"ROC-AUC Score: Not available\")\n",
    "    print(f\"Training Time: {train_time:.2f} seconds\")\n",
    "    \n",
    "    # Generate confusion matrix\n",
    "    # cm = confusion_matrix(y_test, y_test_pred)\n",
    "    # plt.figure(figsize=(6, 4))\n",
    "    # sns.heatmap(cm, annot=True, fmt='d', cmap='Blues', \n",
    "    #             xticklabels=['No Accident', 'Accident'],\n",
    "    #             yticklabels=['No Accident', 'Accident'])\n",
    "    # plt.title(f'Confusion Matrix - {model_name}')\n",
    "    # plt.ylabel('True Label')\n",
    "    # plt.xlabel('Predicted Label')\n",
    "    # plt.tight_layout()\n",
    "    # plt.show()\n",
    "    \n",
    "        # Classification report\n",
    "    # print(\"\\nClassification Report:\")\n",
    "    # print(classification_report(y_test, y_test_pred))\n",
    "    \n",
    "    # Return key metrics for comparison\n",
    "    return {\n",
    "        \"model_name\": model_name, \n",
    "        \"model\": model,\n",
    "        \"test_accuracy\": test_acc, \n",
    "        \"f1_score\": test_f1,\n",
    "        \"roc_auc\": roc_auc if roc_auc is not None else 0,\n",
    "        \"training_time\": train_time\n",
    "    }"
   ]
  },
  {
   "cell_type": "code",
   "execution_count": 21,
   "metadata": {},
   "outputs": [
    {
     "name": "stdout",
     "output_type": "stream",
     "text": [
      "\n",
      "Evaluating Logistic Regression...\n",
      "\n",
      "Logistic Regression:\n",
      "Training Accuracy: 0.7116\n",
      "Testing Accuracy: 0.7000\n",
      "F1 Score: 0.0400\n",
      "ROC-AUC Score: 0.5895\n",
      "Training Time: 1.02 seconds\n",
      "\n",
      "Evaluating K-Nearest Neighbors...\n",
      "\n",
      "K-Nearest Neighbors:\n",
      "Training Accuracy: 0.7727\n",
      "Testing Accuracy: 0.6438\n",
      "F1 Score: 0.2192\n",
      "ROC-AUC Score: 0.5425\n",
      "Training Time: 0.04 seconds\n",
      "\n",
      "Evaluating Decision Tree...\n",
      "\n",
      "Decision Tree:\n",
      "Training Accuracy: 1.0000\n",
      "Testing Accuracy: 0.5625\n",
      "F1 Score: 0.2222\n",
      "ROC-AUC Score: 0.4613\n",
      "Training Time: 0.19 seconds\n",
      "\n",
      "Evaluating Random Forest...\n",
      "\n",
      "Random Forest:\n",
      "Training Accuracy: 0.8480\n",
      "Testing Accuracy: 0.6250\n",
      "F1 Score: 0.3023\n",
      "ROC-AUC Score: 0.5426\n",
      "Training Time: 2.87 seconds\n",
      "\n",
      "Evaluating AdaBoost...\n",
      "\n",
      "AdaBoost:\n",
      "Training Accuracy: 0.7006\n",
      "Testing Accuracy: 0.7000\n",
      "F1 Score: 0.0000\n",
      "ROC-AUC Score: 0.6303\n",
      "Training Time: 0.71 seconds\n",
      "\n",
      "Evaluating Gradient Boosting...\n",
      "\n",
      "Gradient Boosting:\n",
      "Training Accuracy: 0.8103\n",
      "Testing Accuracy: 0.6875\n",
      "F1 Score: 0.1071\n",
      "ROC-AUC Score: 0.4851\n",
      "Training Time: 0.82 seconds\n",
      "\n",
      "Evaluating XGBoost...\n"
     ]
    },
    {
     "name": "stderr",
     "output_type": "stream",
     "text": [
      "c:\\Users\\tejas\\miniconda3\\Lib\\site-packages\\xgboost\\core.py:158: UserWarning: [21:30:00] WARNING: C:\\buildkite-agent\\builds\\buildkite-windows-cpu-autoscaling-group-i-0c55ff5f71b100e98-1\\xgboost\\xgboost-ci-windows\\src\\learner.cc:740: \n",
      "Parameters: { \"use_label_encoder\" } are not used.\n",
      "\n",
      "  warnings.warn(smsg, UserWarning)\n"
     ]
    },
    {
     "name": "stdout",
     "output_type": "stream",
     "text": [
      "\n",
      "XGBoost:\n",
      "Training Accuracy: 1.0000\n",
      "Testing Accuracy: 0.6188\n",
      "F1 Score: 0.2078\n",
      "ROC-AUC Score: 0.4494\n",
      "Training Time: 1.03 seconds\n",
      "\n",
      "Evaluating Support Vector Machine...\n",
      "\n",
      "Support Vector Machine:\n",
      "Training Accuracy: 0.7163\n",
      "Testing Accuracy: 0.6875\n",
      "F1 Score: 0.0000\n",
      "ROC-AUC Score: 0.4753\n",
      "Training Time: 0.43 seconds\n",
      "\n",
      "Model Comparison:\n",
      "                    Model  Accuracy  F1 Score   ROC-AUC  Training Time (s)\n",
      "0     Logistic Regression   0.70000  0.040000  0.589472           1.021133\n",
      "4                AdaBoost   0.70000  0.000000  0.630301           0.709647\n",
      "5       Gradient Boosting   0.68750  0.107143  0.485119           0.820215\n",
      "7  Support Vector Machine   0.68750  0.000000  0.475260           0.427801\n",
      "1     K-Nearest Neighbors   0.64375  0.219178  0.542504           0.044232\n",
      "3           Random Forest   0.62500  0.302326  0.542597           2.870100\n",
      "6                 XGBoost   0.61875  0.207792  0.449405           1.031016\n",
      "2           Decision Tree   0.56250  0.222222  0.461310           0.193528\n"
     ]
    }
   ],
   "source": [
    "\n",
    "# Define models for classification\n",
    "models = {\n",
    "    \"Logistic Regression\": LogisticRegression(max_iter=1000),\n",
    "    \"K-Nearest Neighbors\": KNeighborsClassifier(),\n",
    "    \"Decision Tree\": DecisionTreeClassifier(),\n",
    "        \"Random Forest\": RandomForestClassifier(\n",
    "        n_estimators=200, \n",
    "        max_depth=8,                  # Prevent overfitting to age\n",
    "        min_samples_split=10,         # Require more samples per split\n",
    "        min_samples_leaf=5,           # More balanced trees\n",
    "        max_features='sqrt',          # Consider fewer features per split\n",
    "        class_weight='balanced',      # Account for class imbalance\n",
    "        random_state=42\n",
    "    ),\n",
    "    \"AdaBoost\": AdaBoostClassifier(),\n",
    "    \"Gradient Boosting\": GradientBoostingClassifier(),\n",
    "    \"XGBoost\": XGBClassifier(use_label_encoder=False, eval_metric='logloss'),\n",
    "    \"Support Vector Machine\": SVC(probability=True)\n",
    "}\n",
    "\n",
    "# Train and evaluate each model\n",
    "results = []\n",
    "for name, model in models.items():\n",
    "    print(f\"\\nEvaluating {name}...\")\n",
    "    result = evaluate_model(name, model, X_train, X_test, y_train, y_test)\n",
    "    results.append(result)\n",
    "\n",
    "# Convert results to DataFrame for easier comparison\n",
    "results_df = pd.DataFrame([{\n",
    "    'Model': r['model_name'],\n",
    "    'Accuracy': r['test_accuracy'],\n",
    "    'F1 Score': r['f1_score'],\n",
    "    'ROC-AUC': r['roc_auc'],\n",
    "    'Training Time (s)': r['training_time']\n",
    "} for r in results])\n",
    "\n",
    "print(\"\\nModel Comparison:\")\n",
    "print(results_df.sort_values('Accuracy', ascending=False))\n"
   ]
  },
  {
   "cell_type": "code",
   "execution_count": 16,
   "metadata": {},
   "outputs": [
    {
     "data": {
      "image/png": "[encoded data removed]",
      "text/plain": [
       "<Figure size 1200x600 with 1 Axes>"
      ]
     },
     "metadata": {},
     "output_type": "display_data"
    }
   ],
   "source": [
    "# Visualize accuracy results\n",
    "plt.figure(figsize=(12, 6))\n",
    "sns.barplot(x='Model', y='Accuracy', data=results_df.sort_values('Accuracy', ascending=False))\n",
    "plt.title('Model Accuracy Comparison')\n",
    "plt.xticks(rotation=45, ha='right')\n",
    "plt.tight_layout()\n",
    "plt.show()"
   ]
  },
  {
   "cell_type": "code",
   "execution_count": 17,
   "metadata": {},
   "outputs": [
    {
     "name": "stdout",
     "output_type": "stream",
     "text": [
      "\n",
      "Best performing model: Logistic Regression\n",
      "Accuracy: 0.7000\n",
      "F1 Score: 0.0400\n"
     ]
    }
   ],
   "source": [
    "\n",
    "# Find the best model (using F1 score which balances precision and recall)\n",
    "best_idx = results_df['Accuracy'].idxmax()\n",
    "best_model_name = results_df.loc[best_idx, 'Model']\n",
    "best_model = [r['model'] for r in results if r['model_name'] == best_model_name][0]\n",
    "\n",
    "print(f\"\\nBest performing model: {best_model_name}\")\n",
    "print(f\"Accuracy: {results_df.loc[best_idx, 'Accuracy']:.4f}\")\n",
    "print(f\"F1 Score: {results_df.loc[best_idx, 'F1 Score']:.4f}\")\n"
   ]
  },
  {
   "cell_type": "code",
   "execution_count": 18,
   "metadata": {},
   "outputs": [
    {
     "name": "stdout",
     "output_type": "stream",
     "text": [
      "\n",
      "Best model saved as: accident_pred_logistic_regression.pkl\n"
     ]
    }
   ],
   "source": [
    "from sklearn.inspection import permutation_importance\n",
    "\n",
    "if hasattr(best_model, 'feature_importances_'):\n",
    "    print(\"\\nTop Features by Importance:\")\n",
    "    importances = best_model.feature_importances_\n",
    "    indices = np.argsort(importances)[::-1]\n",
    "    columns = X_train.columns\n",
    "    \n",
    "    # Add permutation importance calculation\n",
    "    print(\"\\nTop Features by Permutation Importance (More Reliable):\")\n",
    "    perm_result = permutation_importance(\n",
    "        best_model, X_test, y_test, \n",
    "        n_repeats=10,\n",
    "        random_state=42\n",
    "    )\n",
    "    \n",
    "    # Sort features by importance\n",
    "    perm_importances = perm_result.importances_mean\n",
    "    perm_indices = np.argsort(perm_importances)[::-1]\n",
    "    \n",
    "# Visualize permutation importance\n",
    "    plt.figure(figsize=(12, 8))\n",
    "    plt.title('Permutation Feature Importance (More Accurate)')\n",
    "    plt.barh(range(min(10, len(perm_indices))), \n",
    "             perm_importances[perm_indices][:10], \n",
    "             align='center')\n",
    "    plt.yticks(range(min(10, len(perm_indices))), \n",
    "              [columns[i] for i in perm_indices][:10])\n",
    "    plt.xlabel('Importance Score')\n",
    "    plt.tight_layout()\n",
    "    plt.show()\n",
    "    \n",
    "    # Print top 10 features\n",
    "    for i, idx in enumerate(indices[:10]):\n",
    "        print(f\"{i+1}. {columns[idx]}: {importances[idx]:.4f}\")\n",
    "\n",
    "# Save the best model to a pickle file\n",
    "model_filename = f\"accident_pred_{best_model_name.replace(' ', '_').lower()}.pkl\"\n",
    "with open(model_filename, 'wb') as file:\n",
    "    pickle.dump(best_model, file)\n",
    "print(f\"\\nBest model saved as: {model_filename}\")\n",
    "\n"
   ]
  }
 ],
 "metadata": {
  "kernelspec": {
   "display_name": "base",
   "language": "python",
   "name": "python3"
  },
  "language_info": {
   "codemirror_mode": {
    "name": "ipython",
    "version": 3
   },
   "file_extension": ".py",
   "mimetype": "text/x-python",
   "name": "python",
   "nbconvert_exporter": "python",
   "pygments_lexer": "ipython3",
   "version": "3.12.7"
  }
 },
 "nbformat": 4,
 "nbformat_minor": 2
}
